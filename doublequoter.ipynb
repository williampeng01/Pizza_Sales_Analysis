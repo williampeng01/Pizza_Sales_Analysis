{
 "cells": [
  {
   "cell_type": "code",
   "execution_count": 2,
   "id": "bf2c2a87",
   "metadata": {},
   "outputs": [],
   "source": [
    "import pandas as pd\n",
    "import csv\n",
    "\n",
    "input_file = '/Users/williampeng/Desktop/salesproject/pizza/pizza_types.csv'\n",
    "output_file = '/Users/williampeng/Desktop/salesproject/pizza/pizza_types2.csv'\n",
    "\n",
    "#with open(input_file, 'r', encoding='ISO-8859-1') as infile, open(output_file, 'w', newline='', encoding='ISO-8859-1') as outfile:\n",
    "#    reader = csv.reader(infile)\n",
    "#    writer = csv.writer(outfile, quoting=csv.QUOTE_ALL)\n",
    "\n",
    "#    for row in reader:\n",
    "#        writer.writerow(row)\n",
    "        \n",
    "        \n",
    "df = pd.read_csv(input_file, encoding='ISO-8859-1', dtype=str)\n",
    "df.to_csv(output_file, index=False, quoting=csv.QUOTE_ALL)"
   ]
  },
  {
   "cell_type": "code",
   "execution_count": null,
   "id": "3747fad0",
   "metadata": {},
   "outputs": [],
   "source": []
  },
  {
   "cell_type": "code",
   "execution_count": null,
   "id": "c440bcfe",
   "metadata": {},
   "outputs": [],
   "source": []
  }
 ],
 "metadata": {
  "kernelspec": {
   "display_name": "Python 3 (ipykernel)",
   "language": "python",
   "name": "python3"
  },
  "language_info": {
   "codemirror_mode": {
    "name": "ipython",
    "version": 3
   },
   "file_extension": ".py",
   "mimetype": "text/x-python",
   "name": "python",
   "nbconvert_exporter": "python",
   "pygments_lexer": "ipython3",
   "version": "3.9.7"
  }
 },
 "nbformat": 4,
 "nbformat_minor": 5
}
